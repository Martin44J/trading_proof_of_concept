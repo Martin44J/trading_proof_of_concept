{
 "cells": [
  {
   "cell_type": "markdown",
   "metadata": {},
   "source": [
    "\n",
    "In this trading bot I recorded data for a few days worth of deviations in october 2020\n",
    "Note - The dataset is not massive, but the idea is there.\n",
    "\n",
    "Strategy: This is an future arbitrage strategy.\n"
   ]
  },
  {
   "cell_type": "code",
   "execution_count": 1,
   "metadata": {},
   "outputs": [],
   "source": [
    "import requests\n",
    "import pandas as pd\n",
    "import numpy as np\n",
    "import json\n",
    "import csv\n",
    "import itertools\n",
    "import sys\n",
    "import config\n",
    "from config import client_id\n",
    "import time"
   ]
  },
  {
   "cell_type": "code",
   "execution_count": 112,
   "metadata": {},
   "outputs": [],
   "source": [
    "\n",
    "\n"
   ]
  },
  {
   "cell_type": "code",
   "execution_count": 2,
   "metadata": {},
   "outputs": [],
   "source": [
    "def queryTD(symbols_to_use = []):\n",
    "    endpoint = r\"https://api.tdameritrade.com/v1/marketdata/quotes\"\n",
    "\n",
    "    #define our payload\n",
    "    payload =  {'apikey':client_id,\n",
    "                'symbol':symbols_to_use}\n",
    "\n",
    "    #make a request\n",
    "    content = requests.get(url = endpoint, params = payload)\n",
    "    return content.json()"
   ]
  },
  {
   "cell_type": "code",
   "execution_count": 3,
   "metadata": {},
   "outputs": [],
   "source": [
    "\n",
    "def runBot(t_end, mes_price_to_try, es_price_to_try):\n",
    "   \n",
    "    #Variable decleration\n",
    "    position_open = False\n",
    "    trade_dict = {\n",
    "        'Symbol':[\"NaN\"],\n",
    "        'Type': [\"NaN\"],\n",
    "        'Price': [\"NaN\"],\n",
    "        'Trade_Num':[\"NaN\"],\n",
    "        'Time': [\"NaN\"]\n",
    "        }\n",
    "\n",
    "    trades_df = pd.DataFrame(trade_dict)\n",
    "    mes_current_open_position = \"\"\n",
    "    trade_num = 0\n",
    "    x=0\n",
    "    first_run = True\n",
    "    \n",
    "    \n",
    "    \n",
    "    print(\"bot is running\")\n",
    "\n",
    "    while(time.time()<t_end):  \n",
    "        \n",
    "        x+=1\n",
    "#         if(x%25 == 0):\n",
    "#             print(\"Bot is still running n={}\".format(x))\n",
    "        \n",
    "        #get price\n",
    "        try:\n",
    "            res=queryTD([\"/MES\", \"/ES\"])\n",
    "            mes_price=res[\"/MES\"][\"bidPriceInDouble\"]\n",
    "            es_price=res[\"/ES\"][\"bidPriceInDouble\"]\n",
    "            \n",
    "            if(first_run == True):\n",
    "                mes_price = mes_price_to_try\n",
    "                es_price = es_price_to_try\n",
    "                first_run = False\n",
    "            \n",
    "            \n",
    "            print(abs(mes_price-es_price))\n",
    "\n",
    "            if(position_open == False):\n",
    "                if(abs(mes_price-es_price)>=.50):\n",
    "                    ##BUY SIGNAL\n",
    "                    print(\"OPEN POSITION\")\n",
    "\n",
    "                    if(mes_price>es_price):\n",
    "                        #to be replaced with api call\n",
    "                        print(\"Long ES @ {}, Short MES @ {}\".format(es_price,mes_price))\n",
    "                        #just tracking one for efficiency\n",
    "                        mes_current_open_position = \"short\"\n",
    "\n",
    "                        #catalog\n",
    "                        trades_df = trades_df.append(pd.Series(data = {\"Symbol\": \"/ES\",\"Type\": \"BUY\", \"Price\": es_price, \"Trade_Num\": trade_num, \"Time\": time.time()}), ignore_index=True)\n",
    "                        trades_df = trades_df.append(pd.Series(data = {\"Symbol\": \"/MES\",\"Type\": \"SELL\", \"Price\": mes_price, \"Trade_Num\": trade_num, \"Time\": time.time()}), ignore_index=True)\n",
    "                        \n",
    "#                         trades_df.loc[len(df.index)] = [\"/ES\", \"BUY\", es_price, trade_num, time.time()]\n",
    "#                         trades_df.loc[len(df.index)] = [\"/MES\", \"SELL\", mes_price, trade_num, time.time()]\n",
    "\n",
    "                    else:\n",
    "                        #to be replaced with api call\n",
    "                        print(\"Short ES @ {}, Long MES @ {}\".format(es_price,mes_price))\n",
    "                        #just tracking one for efficiency\n",
    "                        mes_current_open_position = \"long\"\n",
    "\n",
    "                        #catalog\n",
    "                        trades_df = trades_df.append(pd.Series(data = {\"Symbol\": \"/ES\",\"Type\": \"SELL\", \"Price\": es_price, \"Trade_Num\": trade_num, \"Time\": time.time()}), ignore_index=True)\n",
    "                        trades_df = trades_df.append(pd.Series(data = {\"Symbol\": \"/MES\",\"Type\": \"BUY\", \"Price\": mes_price, \"Trade_Num\": trade_num, \"Time\": time.time()}), ignore_index=True)\n",
    "\n",
    "                    position_open = True\n",
    "                    display(trades_df)\n",
    "            else:\n",
    "                print(\"there is a position open\")\n",
    "                if(mes_price-es_price == 0):\n",
    "                    print(\"CLOSE POSITION\")\n",
    "                    if(mes_current_open_position == \"short\"):\n",
    "                        #to be replaced with api call\n",
    "                        print(\"Close ES @ {}, Cover MES @ {}\".format(es_price, mes_price))\n",
    "\n",
    "                        #catalog\n",
    "                        trades_df = trades_df.append(pd.Series(data = {\"Symbol\": \"/ES\",\"Type\": \"SELL\", \"Price\": es_price, \"Trade_Num\": trade_num, \"Time\": time.time()}), ignore_index=True)\n",
    "                        trades_df = trades_df.append(pd.Series(data = {\"Symbol\": \"/MES\",\"Type\": \"BUY\", \"Price\": mes_price, \"Trade_Num\": trade_num, \"Time\": time.time()}), ignore_index=True)\n",
    "\n",
    "                    elif(mes_current_open_position == \"long\"):\n",
    "                        #to be replaced with api call\n",
    "                        print(\"Cover ES @ {}, Close MES @ {}\".format(es_price, mes_price))\n",
    "\n",
    "                        #catalog\n",
    "                        trades_df = trades_df.append(pd.Series(data = {\"Symbol\": \"/ES\",\"Type\": \"BUY\", \"Price\": es_price, \"Trade_Num\": trade_num, \"Time\": time.time()}), ignore_index=True)\n",
    "                        trades_df = trades_df.append(pd.Series(data = {\"Symbol\": \"/MES\",\"Type\": \"SELL\", \"Price\": mes_price, \"Trade_Num\": trade_num, \"Time\": time.time()}), ignore_index=True)\n",
    "\n",
    "\n",
    "                    trade_num += 1\n",
    "                    display(trades_df)\n",
    "                    trades_df.to_csv(\"trades{}\".format(t_end), header = True)\n",
    "                    position_open = False\n",
    "                    mes_current_open_position = \"\"\n",
    "                    \n",
    "        except Exception as e:\n",
    "            print(e)\n",
    "            trades_df.loc[len(df.index)] = [\"na\", \"ERROR\", 0, -1, time.time()]\n",
    "            time.sleep(15)\n",
    "            \n",
    "            \n",
    "        time.sleep(1)\n",
    "   "
   ]
  },
  {
   "cell_type": "code",
   "execution_count": 4,
   "metadata": {},
   "outputs": [
    {
     "name": "stdout",
     "output_type": "stream",
     "text": [
      "bot is running\n",
      "0.5\n",
      "OPEN POSITION\n",
      "Short ES @ 4100.5, Long MES @ 4100.0\n",
      "Can only append a Series if ignore_index=True or if the Series has a name\n"
     ]
    },
    {
     "ename": "NameError",
     "evalue": "name 'df' is not defined",
     "output_type": "error",
     "traceback": [
      "\u001b[1;31m---------------------------------------------------------------------------\u001b[0m",
      "\u001b[1;31mTypeError\u001b[0m                                 Traceback (most recent call last)",
      "\u001b[1;32m<ipython-input-3-69cc3d04ea34>\u001b[0m in \u001b[0;36mrunBot\u001b[1;34m(t_end, mes_price_to_try, es_price_to_try)\u001b[0m\n\u001b[0;32m     67\u001b[0m                         \u001b[1;31m#catalog\u001b[0m\u001b[1;33m\u001b[0m\u001b[1;33m\u001b[0m\u001b[1;33m\u001b[0m\u001b[0m\n\u001b[1;32m---> 68\u001b[1;33m                         \u001b[0mtrades_df\u001b[0m \u001b[1;33m=\u001b[0m \u001b[0mtrades_df\u001b[0m\u001b[1;33m.\u001b[0m\u001b[0mappend\u001b[0m\u001b[1;33m(\u001b[0m\u001b[0mpd\u001b[0m\u001b[1;33m.\u001b[0m\u001b[0mSeries\u001b[0m\u001b[1;33m(\u001b[0m\u001b[0mdata\u001b[0m \u001b[1;33m=\u001b[0m \u001b[1;33m{\u001b[0m\u001b[1;34m\"Symbol\"\u001b[0m\u001b[1;33m:\u001b[0m \u001b[1;34m\"/ES\"\u001b[0m\u001b[1;33m,\u001b[0m\u001b[1;34m\"Type\"\u001b[0m\u001b[1;33m:\u001b[0m \u001b[1;34m\"SELL\"\u001b[0m\u001b[1;33m,\u001b[0m \u001b[1;34m\"Price\"\u001b[0m\u001b[1;33m:\u001b[0m \u001b[0mes_price\u001b[0m\u001b[1;33m,\u001b[0m \u001b[1;34m\"Trade_Num\"\u001b[0m\u001b[1;33m:\u001b[0m \u001b[0mtrade_num\u001b[0m\u001b[1;33m,\u001b[0m \u001b[1;34m\"Time\"\u001b[0m\u001b[1;33m:\u001b[0m \u001b[0mtime\u001b[0m\u001b[1;33m.\u001b[0m\u001b[0mtime\u001b[0m\u001b[1;33m(\u001b[0m\u001b[1;33m)\u001b[0m\u001b[1;33m}\u001b[0m\u001b[1;33m)\u001b[0m\u001b[1;33m)\u001b[0m\u001b[1;33m\u001b[0m\u001b[1;33m\u001b[0m\u001b[0m\n\u001b[0m\u001b[0;32m     69\u001b[0m                         \u001b[0mtrades_df\u001b[0m \u001b[1;33m=\u001b[0m \u001b[0mtrades_df\u001b[0m\u001b[1;33m.\u001b[0m\u001b[0mappend\u001b[0m\u001b[1;33m(\u001b[0m\u001b[0mpd\u001b[0m\u001b[1;33m.\u001b[0m\u001b[0mSeries\u001b[0m\u001b[1;33m(\u001b[0m\u001b[0mdata\u001b[0m \u001b[1;33m=\u001b[0m \u001b[1;33m{\u001b[0m\u001b[1;34m\"Symbol\"\u001b[0m\u001b[1;33m:\u001b[0m \u001b[1;34m\"/MES\"\u001b[0m\u001b[1;33m,\u001b[0m\u001b[1;34m\"Type\"\u001b[0m\u001b[1;33m:\u001b[0m \u001b[1;34m\"BUY\"\u001b[0m\u001b[1;33m,\u001b[0m \u001b[1;34m\"Price\"\u001b[0m\u001b[1;33m:\u001b[0m \u001b[0mmes_price\u001b[0m\u001b[1;33m,\u001b[0m \u001b[1;34m\"Trade_Num\"\u001b[0m\u001b[1;33m:\u001b[0m \u001b[0mtrade_num\u001b[0m\u001b[1;33m,\u001b[0m \u001b[1;34m\"Time\"\u001b[0m\u001b[1;33m:\u001b[0m \u001b[0mtime\u001b[0m\u001b[1;33m.\u001b[0m\u001b[0mtime\u001b[0m\u001b[1;33m(\u001b[0m\u001b[1;33m)\u001b[0m\u001b[1;33m}\u001b[0m\u001b[1;33m)\u001b[0m\u001b[1;33m)\u001b[0m\u001b[1;33m\u001b[0m\u001b[1;33m\u001b[0m\u001b[0m\n",
      "\u001b[1;32mc:\\users\\martin\\appdata\\local\\programs\\python\\python38-32\\lib\\site-packages\\pandas\\core\\frame.py\u001b[0m in \u001b[0;36mappend\u001b[1;34m(self, other, ignore_index, verify_integrity, sort)\u001b[0m\n\u001b[0;32m   7702\u001b[0m             \u001b[1;32mif\u001b[0m \u001b[0mother\u001b[0m\u001b[1;33m.\u001b[0m\u001b[0mname\u001b[0m \u001b[1;32mis\u001b[0m \u001b[1;32mNone\u001b[0m \u001b[1;32mand\u001b[0m \u001b[1;32mnot\u001b[0m \u001b[0mignore_index\u001b[0m\u001b[1;33m:\u001b[0m\u001b[1;33m\u001b[0m\u001b[1;33m\u001b[0m\u001b[0m\n\u001b[1;32m-> 7703\u001b[1;33m                 raise TypeError(\n\u001b[0m\u001b[0;32m   7704\u001b[0m                     \u001b[1;34m\"Can only append a Series if ignore_index=True \"\u001b[0m\u001b[1;33m\u001b[0m\u001b[1;33m\u001b[0m\u001b[0m\n",
      "\u001b[1;31mTypeError\u001b[0m: Can only append a Series if ignore_index=True or if the Series has a name",
      "\nDuring handling of the above exception, another exception occurred:\n",
      "\u001b[1;31mNameError\u001b[0m                                 Traceback (most recent call last)",
      "\u001b[1;32m<ipython-input-4-e85ce2afbdce>\u001b[0m in \u001b[0;36m<module>\u001b[1;34m\u001b[0m\n\u001b[0;32m      1\u001b[0m \u001b[1;32mif\u001b[0m \u001b[0m__name__\u001b[0m \u001b[1;33m==\u001b[0m \u001b[1;34m\"__main__\"\u001b[0m\u001b[1;33m:\u001b[0m\u001b[1;33m\u001b[0m\u001b[1;33m\u001b[0m\u001b[0m\n\u001b[0;32m      2\u001b[0m \u001b[1;33m\u001b[0m\u001b[0m\n\u001b[1;32m----> 3\u001b[1;33m     \u001b[0mrunBot\u001b[0m\u001b[1;33m(\u001b[0m\u001b[1;36m1634763600\u001b[0m\u001b[1;33m,\u001b[0m \u001b[1;36m4100.0\u001b[0m\u001b[1;33m,\u001b[0m \u001b[1;36m4100.5\u001b[0m\u001b[1;33m)\u001b[0m\u001b[1;33m\u001b[0m\u001b[1;33m\u001b[0m\u001b[0m\n\u001b[0m",
      "\u001b[1;32m<ipython-input-3-69cc3d04ea34>\u001b[0m in \u001b[0;36mrunBot\u001b[1;34m(t_end, mes_price_to_try, es_price_to_try)\u001b[0m\n\u001b[0;32m    100\u001b[0m         \u001b[1;32mexcept\u001b[0m \u001b[0mException\u001b[0m \u001b[1;32mas\u001b[0m \u001b[0me\u001b[0m\u001b[1;33m:\u001b[0m\u001b[1;33m\u001b[0m\u001b[1;33m\u001b[0m\u001b[0m\n\u001b[0;32m    101\u001b[0m             \u001b[0mprint\u001b[0m\u001b[1;33m(\u001b[0m\u001b[0me\u001b[0m\u001b[1;33m)\u001b[0m\u001b[1;33m\u001b[0m\u001b[1;33m\u001b[0m\u001b[0m\n\u001b[1;32m--> 102\u001b[1;33m             \u001b[0mtrades_df\u001b[0m\u001b[1;33m.\u001b[0m\u001b[0mloc\u001b[0m\u001b[1;33m[\u001b[0m\u001b[0mlen\u001b[0m\u001b[1;33m(\u001b[0m\u001b[0mdf\u001b[0m\u001b[1;33m.\u001b[0m\u001b[0mindex\u001b[0m\u001b[1;33m)\u001b[0m\u001b[1;33m]\u001b[0m \u001b[1;33m=\u001b[0m \u001b[1;33m[\u001b[0m\u001b[1;34m\"na\"\u001b[0m\u001b[1;33m,\u001b[0m \u001b[1;34m\"ERROR\"\u001b[0m\u001b[1;33m,\u001b[0m \u001b[1;36m0\u001b[0m\u001b[1;33m,\u001b[0m \u001b[1;33m-\u001b[0m\u001b[1;36m1\u001b[0m\u001b[1;33m,\u001b[0m \u001b[0mtime\u001b[0m\u001b[1;33m.\u001b[0m\u001b[0mtime\u001b[0m\u001b[1;33m(\u001b[0m\u001b[1;33m)\u001b[0m\u001b[1;33m]\u001b[0m\u001b[1;33m\u001b[0m\u001b[1;33m\u001b[0m\u001b[0m\n\u001b[0m\u001b[0;32m    103\u001b[0m             \u001b[0mtime\u001b[0m\u001b[1;33m.\u001b[0m\u001b[0msleep\u001b[0m\u001b[1;33m(\u001b[0m\u001b[1;36m15\u001b[0m\u001b[1;33m)\u001b[0m\u001b[1;33m\u001b[0m\u001b[1;33m\u001b[0m\u001b[0m\n\u001b[0;32m    104\u001b[0m \u001b[1;33m\u001b[0m\u001b[0m\n",
      "\u001b[1;31mNameError\u001b[0m: name 'df' is not defined"
     ]
    }
   ],
   "source": [
    "if __name__ == \"__main__\":\n",
    "    \n",
    "    runBot(1634763600, 4100.0, 4100.5)"
   ]
  },
  {
   "cell_type": "markdown",
   "metadata": {},
   "source": [
    "The following are testing blocks"
   ]
  },
  {
   "cell_type": "code",
   "execution_count": 69,
   "metadata": {},
   "outputs": [
    {
     "name": "stdout",
     "output_type": "stream",
     "text": [
      "Mes Price: 4480.25\t ES Price: 4480.25\n",
      "0.0\n",
      "False\n"
     ]
    }
   ],
   "source": [
    "res=queryTD([\"/MES\", \"/ES\"])\n",
    "mes_price=res[\"/MES\"][\"bidPriceInDouble\"]\n",
    "es_price=res[\"/ES\"][\"bidPriceInDouble\"]\n",
    "\n",
    "print(\"Mes Price: {}\".format(mes_price) + \"\\t ES Price: {}\".format(es_price))\n",
    "print(abs(mes_price-es_price))\n",
    "print(abs(mes_price-es_price)>.50)\n"
   ]
  },
  {
   "cell_type": "code",
   "execution_count": 154,
   "metadata": {},
   "outputs": [
    {
     "data": {
      "text/html": [
       "<div>\n",
       "<style scoped>\n",
       "    .dataframe tbody tr th:only-of-type {\n",
       "        vertical-align: middle;\n",
       "    }\n",
       "\n",
       "    .dataframe tbody tr th {\n",
       "        vertical-align: top;\n",
       "    }\n",
       "\n",
       "    .dataframe thead th {\n",
       "        text-align: right;\n",
       "    }\n",
       "</style>\n",
       "<table border=\"1\" class=\"dataframe\">\n",
       "  <thead>\n",
       "    <tr style=\"text-align: right;\">\n",
       "      <th></th>\n",
       "      <th>Names</th>\n",
       "      <th>Types</th>\n",
       "      <th>Prices</th>\n",
       "    </tr>\n",
       "  </thead>\n",
       "  <tbody>\n",
       "    <tr>\n",
       "      <th>0</th>\n",
       "      <td>Martin</td>\n",
       "      <td>Hot</td>\n",
       "      <td>1234.0</td>\n",
       "    </tr>\n",
       "    <tr>\n",
       "      <th>1</th>\n",
       "      <td>Alina</td>\n",
       "      <td>asdfasd</td>\n",
       "      <td>123123123.0</td>\n",
       "    </tr>\n",
       "  </tbody>\n",
       "</table>\n",
       "</div>"
      ],
      "text/plain": [
       "    Names    Types       Prices\n",
       "0  Martin      Hot       1234.0\n",
       "1   Alina  asdfasd  123123123.0"
      ]
     },
     "execution_count": 154,
     "metadata": {},
     "output_type": "execute_result"
    }
   ],
   "source": [
    "this_dict = {\n",
    "    \"Names\": [],\n",
    "    \"Types\": [],\n",
    "    \"Prices\": []\n",
    "}\n",
    "\n",
    "this_df = pd.DataFrame(this_dict)\n",
    "some_series = pd.Series(data={\"Names\": \"Martin\",\"Types\": \"Hot\",\"Prices\": 1234})\n",
    "this_df = this_df.append(some_series, ignore_index=True)\n",
    "some_series2 = pd.Series(data={\"Names\": \"Alina\",\"Types\": \"asdfasd\",\"Prices\": 123123123})\n",
    "this_df = this_df.append(some_series2, ignore_index=True)\n",
    "\n",
    "this_df\n"
   ]
  }
 ],
 "metadata": {
  "kernelspec": {
   "display_name": "Python 3",
   "language": "python",
   "name": "python3"
  },
  "language_info": {
   "codemirror_mode": {
    "name": "ipython",
    "version": 3
   },
   "file_extension": ".py",
   "mimetype": "text/x-python",
   "name": "python",
   "nbconvert_exporter": "python",
   "pygments_lexer": "ipython3",
   "version": "3.8.5"
  }
 },
 "nbformat": 4,
 "nbformat_minor": 4
}
