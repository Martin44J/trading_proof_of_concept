{
 "cells": [
  {
   "cell_type": "code",
   "execution_count": 1,
   "metadata": {},
   "outputs": [],
   "source": [
    "import requests\n",
    "import pandas as pd\n",
    "import numpy as np\n",
    "import json\n",
    "import csv\n",
    "import itertools\n",
    "import sys\n",
    "import config\n",
    "from config import client_id\n",
    "import time\n",
    "\n",
    "\n",
    "\n",
    "#Symbols to retrieve in order to get data\n",
    "symbols = [\"/ES\", \"/MES\"]  "
   ]
  },
  {
   "cell_type": "code",
   "execution_count": 2,
   "metadata": {},
   "outputs": [],
   "source": [
    "def getQuotes(symbols_to_use = []):\n",
    "    endpoint = r\"https://api.tdameritrade.com/v1/marketdata/quotes\"\n",
    "\n",
    "    #define our payload\n",
    "    payload =  {'apikey':client_id,\n",
    "                'symbol':symbols}\n",
    "\n",
    "    #make a request\n",
    "    content = requests.get(url = endpoint, params = payload)\n",
    "    return content.json()"
   ]
  },
  {
   "cell_type": "code",
   "execution_count": 3,
   "metadata": {},
   "outputs": [
    {
     "ename": "SyntaxError",
     "evalue": "invalid syntax (<ipython-input-3-282d0cf433b7>, line 11)",
     "output_type": "error",
     "traceback": [
      "\u001b[1;36m  File \u001b[1;32m\"<ipython-input-3-282d0cf433b7>\"\u001b[1;36m, line \u001b[1;32m11\u001b[0m\n\u001b[1;33m    else if(key == \"/MES\"):\u001b[0m\n\u001b[1;37m         ^\u001b[0m\n\u001b[1;31mSyntaxError\u001b[0m\u001b[1;31m:\u001b[0m invalid syntax\n"
     ]
    }
   ],
   "source": [
    "def dict_to_CSV(dw = {}):\n",
    "    for key in dw:\n",
    "        new_dict = dw[key]\n",
    "        temp_keys = new_dict.keys()\n",
    "    \n",
    "    \n",
    "    #have to change csv file name because it is /ES, \n",
    "    #Also must change MES\n",
    "    if(key == \"/ES\"):\n",
    "        csv_file = \"data_ES.csv\"\n",
    "    elif(key == \"/MES\"):\n",
    "        csv_file = \"data_MES.csv\"\n",
    "    else:\n",
    "        print(\"No file by this name can be created\")\n",
    "        \n",
    "        \n",
    "        \n",
    "    with open(csv_file, 'w') as f:\n",
    "        w = csv.DictWriter(f,temp_keys)\n",
    "        w.writeheader()\n",
    "        w.writerow(new_dict)"
   ]
  },
  {
   "cell_type": "code",
   "execution_count": null,
   "metadata": {},
   "outputs": [],
   "source": [
    "#Had to Hard Code, change if there is change to symbols.\n",
    "\n",
    "def make_dataFrames_for_Symbols():\n",
    "    dict_for_keys = getQuotes(symbols_to_use = symbols)\n",
    "    \n",
    "    \n",
    "    es_dict = dict_for_keys[\"/ES\"]\n",
    "    es_df = pd.DataFrame(es_dict.values(), es_dict.keys())\n",
    "    \n",
    "    mes_dict = dict_for_keys[\"/MES\"]\n",
    "    mes_df = pd.DataFrame(mes_dict.values(), mes_dict.keys())\n",
    "    \n",
    "    \n",
    "    return (es_df, mes_df)\n",
    "        \n",
    "        "
   ]
  },
  {
   "cell_type": "code",
   "execution_count": 4,
   "metadata": {},
   "outputs": [],
   "source": [
    "\n",
    "def multi_quote():\n",
    "    es_df, mes_df = make_dataFrames_for_Symbols()\n",
    "    \n",
    "    #60 x minutes\n",
    "    #23400 = time market is open from 6:30 to 1:00\n",
    "    #Futures Hours: 3:00 afternoon till 2:00, Then restart at 3:00\n",
    "    #In Military time that is 15:00 till 14:00 and then restart at 15:00\n",
    "    #Time in seconds from market open till close = 82,800\n",
    "    t_end = 1604358000;\n",
    "    \n",
    "    #ROW OF DF TO USE, CHANGE BEFORE RUNNING TO PREVENT OVERRIDE\n",
    "    x = 0\n",
    "    \n",
    "    while time.time()< t_end:\n",
    "        #Get Quote (dict of dict), get single symbol(dict), make df (pd df), add to existing df\n",
    "        try:\n",
    "            full_size_dict = getQuotes(symbols_to_use = symbols)\n",
    "\n",
    "            es_df[x] = full_size_dict['/ES'].values()\n",
    "\n",
    "            mes_df[x] = full_size_dict['/MES'].values()\n",
    "            \n",
    "        except KeyError:\n",
    "            print(\"key Error, waiting 1 minute before resuming\")\n",
    "            time.sleep(60)\n",
    "        except:\n",
    "            print(\"other error, waiting 1 minute before resuming\")\n",
    "            time.sleep(60)\n",
    "        \n",
    "        if x% 25 == 0:\n",
    "            print(\"Saving\")\n",
    "            es_df.to_csv(\"data_ES\", header = True)\n",
    "            mes_df.to_csv(\"data_MES\", header = True)\n",
    "        \n",
    "        x +=1 \n",
    "        \n",
    "        time.sleep(1)\n",
    "        \n",
    "    return (es_df, mes_df)\n"
   ]
  },
  {
   "cell_type": "code",
   "execution_count": 5,
   "metadata": {
    "scrolled": true
   },
   "outputs": [
    {
     "ename": "NameError",
     "evalue": "name 'make_dataFrames_for_Symbols' is not defined",
     "output_type": "error",
     "traceback": [
      "\u001b[1;31m---------------------------------------------------------------------------\u001b[0m",
      "\u001b[1;31mNameError\u001b[0m                                 Traceback (most recent call last)",
      "\u001b[1;32m<ipython-input-5-cbde9eeb2df0>\u001b[0m in \u001b[0;36m<module>\u001b[1;34m\u001b[0m\n\u001b[0;32m      1\u001b[0m \u001b[1;32mif\u001b[0m \u001b[0m__name__\u001b[0m\u001b[1;33m==\u001b[0m\u001b[1;34m\"__main__\"\u001b[0m\u001b[1;33m:\u001b[0m\u001b[1;33m\u001b[0m\u001b[1;33m\u001b[0m\u001b[0m\n\u001b[1;32m----> 2\u001b[1;33m     \u001b[0mes_df\u001b[0m\u001b[1;33m,\u001b[0m \u001b[0mmes_df\u001b[0m \u001b[1;33m=\u001b[0m \u001b[0mmulti_quote\u001b[0m\u001b[1;33m(\u001b[0m\u001b[1;33m)\u001b[0m\u001b[1;33m\u001b[0m\u001b[1;33m\u001b[0m\u001b[0m\n\u001b[0m\u001b[0;32m      3\u001b[0m \u001b[1;33m\u001b[0m\u001b[0m\n\u001b[0;32m      4\u001b[0m     \u001b[0mes_df\u001b[0m\u001b[1;33m.\u001b[0m\u001b[0mto_csv\u001b[0m\u001b[1;33m(\u001b[0m\u001b[1;34m\"data_ES\"\u001b[0m\u001b[1;33m,\u001b[0m \u001b[0mheader\u001b[0m \u001b[1;33m=\u001b[0m \u001b[1;32mTrue\u001b[0m\u001b[1;33m)\u001b[0m\u001b[1;33m\u001b[0m\u001b[1;33m\u001b[0m\u001b[0m\n\u001b[0;32m      5\u001b[0m     \u001b[0mmes_df\u001b[0m\u001b[1;33m.\u001b[0m\u001b[0mto_csv\u001b[0m\u001b[1;33m(\u001b[0m\u001b[1;34m\"data_MES\"\u001b[0m\u001b[1;33m,\u001b[0m \u001b[0mheader\u001b[0m \u001b[1;33m=\u001b[0m \u001b[1;32mTrue\u001b[0m\u001b[1;33m)\u001b[0m\u001b[1;33m\u001b[0m\u001b[1;33m\u001b[0m\u001b[0m\n",
      "\u001b[1;32m<ipython-input-4-669e6a128c6c>\u001b[0m in \u001b[0;36mmulti_quote\u001b[1;34m()\u001b[0m\n\u001b[0;32m      1\u001b[0m \u001b[1;32mdef\u001b[0m \u001b[0mmulti_quote\u001b[0m\u001b[1;33m(\u001b[0m\u001b[1;33m)\u001b[0m\u001b[1;33m:\u001b[0m\u001b[1;33m\u001b[0m\u001b[1;33m\u001b[0m\u001b[0m\n\u001b[1;32m----> 2\u001b[1;33m     \u001b[0mes_df\u001b[0m\u001b[1;33m,\u001b[0m \u001b[0mmes_df\u001b[0m \u001b[1;33m=\u001b[0m \u001b[0mmake_dataFrames_for_Symbols\u001b[0m\u001b[1;33m(\u001b[0m\u001b[1;33m)\u001b[0m\u001b[1;33m\u001b[0m\u001b[1;33m\u001b[0m\u001b[0m\n\u001b[0m\u001b[0;32m      3\u001b[0m \u001b[1;33m\u001b[0m\u001b[0m\n\u001b[0;32m      4\u001b[0m     \u001b[1;31m#60 x minutes\u001b[0m\u001b[1;33m\u001b[0m\u001b[1;33m\u001b[0m\u001b[1;33m\u001b[0m\u001b[0m\n\u001b[0;32m      5\u001b[0m     \u001b[1;31m#23400 = time market is open from 6:30 to 1:00\u001b[0m\u001b[1;33m\u001b[0m\u001b[1;33m\u001b[0m\u001b[1;33m\u001b[0m\u001b[0m\n",
      "\u001b[1;31mNameError\u001b[0m: name 'make_dataFrames_for_Symbols' is not defined"
     ]
    }
   ],
   "source": [
    "\n",
    "if __name__==\"__main__\":\n",
    "    es_df, mes_df = multi_quote()\n",
    "\n",
    "    es_df.to_csv(\"data_ES\", header = True)\n",
    "    mes_df.to_csv(\"data_MES\", header = True)\n",
    "    "
   ]
  },
  {
   "cell_type": "code",
   "execution_count": 2,
   "metadata": {},
   "outputs": [
    {
     "ename": "NameError",
     "evalue": "name 'spy_df' is not defined",
     "output_type": "error",
     "traceback": [
      "\u001b[1;31m---------------------------------------------------------------------------\u001b[0m",
      "\u001b[1;31mNameError\u001b[0m                                 Traceback (most recent call last)",
      "\u001b[1;32m<ipython-input-2-ddee36315444>\u001b[0m in \u001b[0;36m<module>\u001b[1;34m\u001b[0m\n\u001b[0;32m      1\u001b[0m \u001b[1;31m#TEST BLOCK\u001b[0m\u001b[1;33m\u001b[0m\u001b[1;33m\u001b[0m\u001b[1;33m\u001b[0m\u001b[0m\n\u001b[1;32m----> 2\u001b[1;33m \u001b[0mspy_df\u001b[0m\u001b[1;33m.\u001b[0m\u001b[0mtranspose\u001b[0m\u001b[1;33m(\u001b[0m\u001b[1;33m)\u001b[0m\u001b[1;33m\u001b[0m\u001b[1;33m\u001b[0m\u001b[0m\n\u001b[0m",
      "\u001b[1;31mNameError\u001b[0m: name 'spy_df' is not defined"
     ]
    }
   ],
   "source": [
    "#TEST BLOCK\n",
    "spy_df.transpose()"
   ]
  },
  {
   "cell_type": "code",
   "execution_count": null,
   "metadata": {},
   "outputs": [],
   "source": []
  }
 ],
 "metadata": {
  "kernelspec": {
   "display_name": "Python 3",
   "language": "python",
   "name": "python3"
  },
  "language_info": {
   "codemirror_mode": {
    "name": "ipython",
    "version": 3
   },
   "file_extension": ".py",
   "mimetype": "text/x-python",
   "name": "python",
   "nbconvert_exporter": "python",
   "pygments_lexer": "ipython3",
   "version": "3.8.5"
  }
 },
 "nbformat": 4,
 "nbformat_minor": 4
}
