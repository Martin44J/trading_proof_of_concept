{
 "cells": [
  {
   "cell_type": "markdown",
   "metadata": {},
   "source": [
    "\n",
    "In this trading bot I recorded data for a few days worth of deviations in october 2020\n",
    "Note - The dataset is not massive, but the idea is there.\n",
    "\n",
    "Strategy: This is an etf arbitrage strategy, It is based off the idea that there is \n",
    "alwasy going to be slight imbalances in the supply and demand between etfs that track\n",
    "the same indexes. In this case I was testing index etfs\n",
    "\n",
    "I believe that the biggest challenge will be to make the position size equal in each etf. the prices are slightly different\n",
    "and so to get an equal sized position, you need a different number of shares. The only given amount possible would be\n",
    "\n"
   ]
  },
  {
   "cell_type": "code",
   "execution_count": null,
   "metadata": {},
   "outputs": [],
   "source": []
  }
 ],
 "metadata": {
  "kernelspec": {
   "display_name": "Python 3",
   "language": "python",
   "name": "python3"
  },
  "language_info": {
   "codemirror_mode": {
    "name": "ipython",
    "version": 3
   },
   "file_extension": ".py",
   "mimetype": "text/x-python",
   "name": "python",
   "nbconvert_exporter": "python",
   "pygments_lexer": "ipython3",
   "version": "3.8.5"
  }
 },
 "nbformat": 4,
 "nbformat_minor": 4
}
